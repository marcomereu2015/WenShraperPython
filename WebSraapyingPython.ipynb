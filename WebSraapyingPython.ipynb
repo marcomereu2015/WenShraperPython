{
 "cells": [
  {
   "cell_type": "code",
   "execution_count": 21,
   "id": "5a9ccf47",
   "metadata": {},
   "outputs": [],
   "source": [
    "# import libraries \n",
    "\n",
    "from bs4 import BeautifulSoup\n",
    "import requests\n",
    "import time\n",
    "import datetime\n",
    "import smtplib\n",
    "import csv \n",
    "import pandas as pd\n"
   ]
  },
  {
   "cell_type": "code",
   "execution_count": 19,
   "id": "f5b39db5",
   "metadata": {},
   "outputs": [
    {
     "name": "stdout",
     "output_type": "stream",
     "text": [
      "Web Scraping with Python: Collecting More Data from the Modern Web\n",
      "37.74\n"
     ]
    }
   ],
   "source": [
    "# Connect to Website and pull in data\n",
    "\n",
    "URL = 'https://www.amazon.com/Web-Scraping-Python-Collecting-Modern/dp/1491985577/ref=sr_1_1?crid=27DSPGNG6SMIO&dchild=1&keywords=web+scraping+with+python&qid=1635897400&qsid=132-2418514-5379068&sprefix=web+scraping+with+python%2Caps%2C126&sr=8-1&sres=1491985577%2C1789533392%2CB077NC4TQP%2CB09BG4VBKG%2CB07CH3CH51%2C1484239245%2CB094441CV6%2C1491910291%2C1782164367%2CB0725BCPT1%2CB08KWGK8K5%2CB07SNC81RJ%2CB07NQVWJ1C%2C1484265750%2C1800207085%2C1593279922&srpt=ABIS_BOOK'\n",
    "\n",
    "headers = {\"User-Agent\": \"Mozilla/5.0 (Windows NT 10.0; Win64; x64) AppleWebKit/537.36 (KHTML, like Gecko) Chrome/78.0.3904.108 Safari/537.36\", \"Accept-Encoding\":\"gzip, deflate\", \"Accept\":\"text/html,application/xhtml+xml,application/xml;q=0.9,*/*;q=0.8\", \"DNT\":\"1\",\"Connection\":\"close\", \"Upgrade-Insecure-Requests\":\"1\"}\n",
    "\n",
    "page = requests.get(URL, headers=headers)\n",
    "\n",
    "soup1 = BeautifulSoup(page.content, \"html.parser\")\n",
    "\n",
    "soup2 = BeautifulSoup(soup1.prettify(), \"html.parser\")\n",
    "\n",
    "title = soup2.find(id = \"productTitle\")\n",
    "if title:\n",
    "    title = title.get_text()\n",
    "else :\n",
    "    title = \"default_title\"\n",
    "    \n",
    "price = soup2.find(id = \"newBuyBoxPrice\")\n",
    "if price:\n",
    "    price = price.get_text()\n",
    "else :\n",
    "    price = \"default_title\"\n",
    "\n",
    "# Clean up the data a little bit\n",
    "\n",
    "price = price.strip()[1:]\n",
    "title = title.strip()\n",
    "\n",
    "print(title)\n",
    "print(price)"
   ]
  },
  {
   "cell_type": "code",
   "execution_count": 20,
   "id": "0e345fd3",
   "metadata": {},
   "outputs": [
    {
     "name": "stdout",
     "output_type": "stream",
     "text": [
      "2021-11-02\n"
     ]
    }
   ],
   "source": [
    "# Create a Timestamp for your output to track when data was collected\n",
    "today = datetime.date.today()\n",
    "\n",
    "print(today)"
   ]
  },
  {
   "cell_type": "code",
   "execution_count": 32,
   "id": "66a85a23",
   "metadata": {},
   "outputs": [],
   "source": [
    "# Create CSV and write headers and data into the file\n",
    "\n",
    "header = ['Title', 'Price', 'Date']\n",
    "data = [title, price, today]\n",
    "\n",
    "\n",
    "with open('AmazonWebScraperDataset.csv', 'w', newline='', encoding='UTF8') as f:\n",
    "    writer = csv.writer(f)\n",
    "    writer.writerow(header)\n",
    "    writer.writerow(data)"
   ]
  },
  {
   "cell_type": "code",
   "execution_count": 39,
   "id": "d674fd64",
   "metadata": {},
   "outputs": [
    {
     "name": "stdout",
     "output_type": "stream",
     "text": [
      "                                               Title  Price        Date\n",
      "0  Web Scraping with Python: Collecting More Data...  37.74  2021-11-02\n"
     ]
    }
   ],
   "source": [
    "df = pd.read_csv(r'/Users/marcomereu/Desktop/AmazonWebScraperDataset.csv')\n",
    "print(df)\n"
   ]
  },
  {
   "cell_type": "code",
   "execution_count": null,
   "id": "154d3dfa",
   "metadata": {},
   "outputs": [],
   "source": []
  }
 ],
 "metadata": {
  "kernelspec": {
   "display_name": "Python 3",
   "language": "python",
   "name": "python3"
  },
  "language_info": {
   "codemirror_mode": {
    "name": "ipython",
    "version": 3
   },
   "file_extension": ".py",
   "mimetype": "text/x-python",
   "name": "python",
   "nbconvert_exporter": "python",
   "pygments_lexer": "ipython3",
   "version": "3.8.8"
  }
 },
 "nbformat": 4,
 "nbformat_minor": 5
}
